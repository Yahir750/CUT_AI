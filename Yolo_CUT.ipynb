{
 "cells": [
  {
   "cell_type": "code",
   "execution_count": null,
   "id": "48f6a366-f8fe-41ba-bdc8-2f13b5521dc3",
   "metadata": {},
   "outputs": [],
   "source": [
    "!pip install degirum\n",
    "!pip install opencv-python\n",
    "!pip install matplotlib"
   ]
  },
  {
   "cell_type": "code",
   "execution_count": null,
   "id": "91165802-d5f9-4ec4-adac-23ba3eebede5",
   "metadata": {},
   "outputs": [],
   "source": [
    "import cv2\n",
    "import degirum\n",
    "import matplotlib.pyplot as plt\n",
    "from IPython.display import clear_output"
   ]
  },
  {
   "cell_type": "code",
   "execution_count": null,
   "id": "e071646f-fead-47af-b68a-236db76600ad",
   "metadata": {},
   "outputs": [],
   "source": [
    "video_path = \"video_prueba.mp4\""
   ]
  },
  {
   "cell_type": "code",
   "execution_count": null,
   "id": "b9f4f25a-9f9a-482f-89cd-af06d6b18095",
   "metadata": {},
   "outputs": [],
   "source": [
    "model_names = [\n",
    "    \"yolo_v5s_coco--640x640\",\n",
    "    \"ssd_mobv2_coco--300x300\",\n",
    "    \"yolo_nas_s_coco--640x640\"\n",
    "]"
   ]
  },
  {
   "cell_type": "code",
   "execution_count": null,
   "id": "730bf9fb-8a1b-4537-9fff-620a0ccd64fe",
   "metadata": {},
   "outputs": [],
   "source": [
    "# Abrir video\n",
    "cap = cv2.VideoCapture(video_path)\n",
    "if not cap.isOpened():\n",
    "    raise Exception(\"No se pudo abrir el video\")"
   ]
  },
  {
   "cell_type": "code",
   "execution_count": null,
   "id": "a73ac5b6-6b81-4ea7-b8f5-3c84d704d11c",
   "metadata": {},
   "outputs": [],
   "source": [
    "# Cargar todos los modelos al inicio\n",
    "models = {name: degirum.load_model(name) for name in model_names}\n",
    "\n",
    "frame_interval = 10  # Procesar cada 10 frames para evitar sobrecarga\n",
    "frame_count = 0"
   ]
  },
  {
   "cell_type": "code",
   "execution_count": null,
   "id": "fb35a250-827d-4f92-b6ca-4caf8ce0b301",
   "metadata": {},
   "outputs": [],
   "source": [
    "# Procesar video\n",
    "while cap.isOpened():\n",
    "    ret, frame = cap.read()\n",
    "    if not ret:\n",
    "        break\n",
    "\n",
    "    frame_count += 1\n",
    "    if frame_count % frame_interval != 0:\n",
    "        continue\n",
    "\n",
    "    # Procesar frame con cada modelo\n",
    "    for model_name, predictor in models.items():\n",
    "        results = predictor.predict(frame)\n",
    "        frame_annotated = predictor.draw_detections(frame.copy(), results)\n",
    "        frame_rgb = cv2.cvtColor(frame_annotated, cv2.COLOR_BGR2RGB)\n",
    "\n",
    "        # Mostrar\n",
    "        clear_output(wait=True)\n",
    "        plt.figure(figsize=(10, 6))\n",
    "        plt.imshow(frame_rgb)\n",
    "        plt.title(f\"Modelo: {model_name}\")\n",
    "        plt.axis(\"off\")\n",
    "        plt.show()\n",
    "\n",
    "    # Mostrar solo unos pocos ciclos para demo\n",
    "    if frame_count > 100:\n",
    "        break\n",
    "\n",
    "cap.release()"
   ]
  }
 ],
 "metadata": {
  "kernelspec": {
   "display_name": "Python 3 (ipykernel)",
   "language": "python",
   "name": "python3"
  },
  "language_info": {
   "codemirror_mode": {
    "name": "ipython",
    "version": 3
   },
   "file_extension": ".py",
   "mimetype": "text/x-python",
   "name": "python",
   "nbconvert_exporter": "python",
   "pygments_lexer": "ipython3",
   "version": "3.13.0"
  }
 },
 "nbformat": 4,
 "nbformat_minor": 5
}
